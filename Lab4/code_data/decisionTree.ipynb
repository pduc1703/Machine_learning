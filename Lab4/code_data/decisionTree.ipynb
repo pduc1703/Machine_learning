{
 "cells": [
  {
   "cell_type": "code",
   "execution_count": 1,
   "id": "7f353c80-3b2c-452c-9ea4-d3c7c6dde8e4",
   "metadata": {},
   "outputs": [],
   "source": [
    "# hàm chia node thành 2 node con dựa trên ngưỡng\n",
    "def split_node(column, threshold_split):  \n",
    "    left_node = column[column <= threshold_split].index  \n",
    "    right_node = column[column > threshold_split].index  \n",
    "    return left_node, right_node "
   ]
  },
  {
   "cell_type": "code",
   "execution_count": 2,
   "id": "77a213fd-464e-4493-83c9-8d9903fadbdd",
   "metadata": {},
   "outputs": [],
   "source": [
    "# hàm tính entropy\n",
    "def entropy(y_target):  \n",
    "    values, counts = np.unique(y_target, return_counts = True)\n",
    "    result = -np.sum([(count / len(y_target)) * np.log2(count / len(y_target)) for count in counts])\n",
    "    return result  "
   ]
  },
  {
   "cell_type": "code",
   "execution_count": 3,
   "id": "a74e2f95-f1eb-4b7d-96b2-d9ab6fefcb35",
   "metadata": {},
   "outputs": [],
   "source": [
    "# hàm tính information gain\n",
    "def info_gain(column, target, threshold_split):  \n",
    "    entropy_start = entropy(target)  \n",
    "\n",
    "    left_node, right_node = split_node(column, threshold_split) \n",
    "\n",
    "    n_target = len(target)  \n",
    "    n_left = len(left_node)  \n",
    "    n_right = len(right_node)  \n",
    "\n",
    "    # tính entropy cho các node con\n",
    "    entropy_left = entropy(target[left_node])  \n",
    "    entropy_right = entropy(target[right_node]) \n",
    "\n",
    "    # Tính tổng entropy của các node con có trọng số\n",
    "    weight_entropy = (n_left / n_target) * entropy_left + (n_right / n_target) * entropy_right\n",
    "\n",
    "    # Tính Information Gain\n",
    "    ig = entropy_start - weight_entropy\n",
    "    return ig\n"
   ]
  },
  {
   "cell_type": "code",
   "execution_count": 4,
   "id": "87a84be2-dab7-4bf6-acf3-188640130be8",
   "metadata": {},
   "outputs": [],
   "source": [
    "# hàm tìm feature và threshold tốt nhất để chia\n",
    "def best_split(dataX, target, feature_id):  \n",
    "    best_ig = -1  \n",
    "    best_feature = None \n",
    "    best_threshold = None\n",
    "    for _id in feature_id:\n",
    "        column = dataX.iloc[:, _id] \n",
    "        thresholds = set(column)\n",
    "        for threshold in thresholds:  \n",
    "            ig = info_gain(column, target, threshold) \n",
    "            if ig > best_ig: \n",
    "                best_ig = ig \n",
    "                best_feature = dataX.columns[_id] \n",
    "                best_threshold = threshold \n",
    "    return best_feature, best_threshold  "
   ]
  },
  {
   "cell_type": "code",
   "execution_count": 5,
   "id": "32098b59-7216-492f-8ca0-0a413214753d",
   "metadata": {},
   "outputs": [],
   "source": [
    "# hàm lấy giá trị xuất hiện nhiều nhất trong node lá\n",
    "def most_value(y_target):  \n",
    "    value = y_target.value_counts().idxmax()  \n",
    "    return value "
   ]
  },
  {
   "cell_type": "code",
   "execution_count": 6,
   "id": "c18704e8-7b67-496d-8806-a922a1dc8064",
   "metadata": {},
   "outputs": [],
   "source": [
    "# lớp Node đại diện cho từng node trong cây\n",
    "class Node:\n",
    "    def __init__(self, feature=None, threshold=None, left=None, right=None, *, value=None): \n",
    "        self.feature = feature  \n",
    "        self.threshold = threshold  \n",
    "        self.left = left  \n",
    "        self.right = right  \n",
    "        self.value = value  \n",
    "\n",
    "    def is_leaf_node(self): \n",
    "        return self.value is not None  \n"
   ]
  },
  {
   "cell_type": "code",
   "execution_count": 7,
   "id": "f774d89c-ea5b-42bf-a6df-4e6791b8b78a",
   "metadata": {},
   "outputs": [],
   "source": [
    "# lớp Decision Tree Classification\n",
    "class DecisionTreeClass:\n",
    "    def __init__(self, min_samples_split=2, max_depth=10, n_features=None):\n",
    "        self.min_samples_split = min_samples_split  \n",
    "        self.max_depth = max_depth  \n",
    "        self.root = None  \n",
    "        self.n_features = n_features  \n",
    "\n",
    "    def grow_tree(self, X, y, depth=0):  \n",
    "        n_samples, n_feats = X.shape  \n",
    "        n_classes = len(np.unique(y))  \n",
    "\n",
    "        # Điều kiện dừng: nếu đạt độ sâu tối đa hoặc không thể chia thêm\n",
    "        if (depth >= self.max_depth or n_classes == 1 or n_samples < self.min_samples_split):\n",
    "            leaf_value = most_value(y)\n",
    "            return Node(value=leaf_value) \n",
    "\n",
    "        # lấy số cột ngẫu nhiên khi tham số n_features khác None\n",
    "        feature_id = np.random.choice(n_feats, self.n_features, replace=False)\n",
    "        \n",
    "        # tìm feature và threshold tốt nhất để chia\n",
    "        best_feature, best_threshold = best_split(X, y, feature_id)\n",
    "\n",
    "        # tách node thành node trái và phải\n",
    "        left_node, right_node = split_node(X[best_feature], best_threshold)\n",
    "\n",
    "        # dùng đệ quy để xây dựng cây con\n",
    "        left = self.grow_tree(X.loc[left_node], y.loc[left_node], depth + 1)\n",
    "        right = self.grow_tree(X.loc[right_node], y.loc[right_node], depth + 1)\n",
    "\n",
    "        # trả về node hiện tại với thông tin chia và 2 node con\n",
    "        return Node(best_feature, best_threshold, left, right)\n",
    "\n",
    "    def fit(self, X, y):  \n",
    "        # nếu n_features là None, lấy tất cả các feature\n",
    "        self.n_features = X.shape[1] if self.n_features is None else min(X.shape[1], self.n_features)\n",
    "        self.root = self.grow_tree(X, y)  \n",
    "\n",
    "    def traverse_tree(self, x, node):  \n",
    "        if node.is_leaf_node():\n",
    "            return node.value\n",
    "\n",
    "        if x[node.feature] <= node.threshold:\n",
    "            return self.traverse_tree(x, node.left)\n",
    "        return self.traverse_tree(x, node.right)\n",
    "    \n",
    "    def predict(self, X):  \n",
    "        return np.array([self.traverse_tree(x, self.root) for index, x in X.iterrows()])\n"
   ]
  },
  {
   "cell_type": "code",
   "execution_count": 8,
   "id": "d5d8a2ad-d7ab-4347-8676-951a03a7f04c",
   "metadata": {},
   "outputs": [],
   "source": [
    "# hàm vẽ cây \n",
    "def print_tree(node, indent = \"\"):\n",
    "    # nếu node là node lá, in ra giá trị của nó\n",
    "    if node.is_leaf_node():\n",
    "        print(f\"{indent}Leaf: {node.value}\")\n",
    "        return\n",
    "    \n",
    "    # in ra node hiện tại với feature và threshold\n",
    "    print(f\"{indent}Node: If {node.feature} <= {node.threshold:.2f}\")\n",
    "\n",
    "    # in ra cây con bên trái (đúng)\n",
    "    print(f\"{indent}  True:\")\n",
    "    print_tree(node.left, indent + \"    \")\n",
    "\n",
    "    # in ra cây con bên phải (sai)\n",
    "    print(f\"{indent}  False:\")\n",
    "    print_tree(node.right, indent + \"    \")"
   ]
  },
  {
   "cell_type": "code",
   "execution_count": 9,
   "id": "1a0690fa-d1ef-4860-92ec-8087bec7d3bc",
   "metadata": {},
   "outputs": [],
   "source": [
    "# hàm tính độ chính xác\n",
    "def accuracy(y_actual, y_pred):  \n",
    "    acc = np.sum(y_actual == y_pred) / len(y_actual)  \n",
    "    return acc * 100  \n"
   ]
  },
  {
   "cell_type": "code",
   "execution_count": null,
   "id": "5ff07271-f1db-47dd-b733-97c4c730659c",
   "metadata": {},
   "outputs": [],
   "source": []
  }
 ],
 "metadata": {
  "kernelspec": {
   "display_name": "Python 3",
   "language": "python",
   "name": "python3"
  },
  "language_info": {
   "codemirror_mode": {
    "name": "ipython",
    "version": 3
   },
   "file_extension": ".py",
   "mimetype": "text/x-python",
   "name": "python",
   "nbconvert_exporter": "python",
   "pygments_lexer": "ipython3",
   "version": "3.12.7"
  }
 },
 "nbformat": 4,
 "nbformat_minor": 5
}
